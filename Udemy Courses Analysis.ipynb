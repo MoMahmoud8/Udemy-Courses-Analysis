{
 "cells": [
  {
   "cell_type": "markdown",
   "id": "40f894f0",
   "metadata": {},
   "source": [
    "This analysis aims to answer these questions:\n",
    "\n",
    "* Find Out Number of Courses Per Subjects\n",
    "* For Which Levels, Udemy Courses Providing The Courses\n",
    "* Display The Count of Paid and Free Courses\n",
    "* Which Course Has More Lectures (Free or Paid)?\n",
    "* Which Courses Have A Higher Number of Subscribers Free or Paid?\n",
    "* Which Level Has The Highest Number of Subscribers?\n",
    "* Find Most Popular Course Title\n",
    "* Display 10 Most Popular Courses As Per Number of Subscribers\n",
    "* Find The Course Which Is Having The Highest Number of Reviews.\n",
    "* Does Price Affect the Number of Reviews?\n",
    "* Find Total Number of Courses Related To Python\n",
    "* Display 10 Most Popular Python Courses As Per Number of Subscribers\n",
    "* In Which Year The Highest Number of Courses Were Posted?\n",
    "* Display Category-Wise Count of Posted Subjects [Year Wise]"
   ]
  },
  {
   "cell_type": "code",
   "execution_count": 1,
   "id": "4a4159e7",
   "metadata": {},
   "outputs": [],
   "source": [
    "import pandas as pd\n",
    "import matplotlib.pyplot as plt\n",
    "import seaborn as sns\n"
   ]
  },
  {
   "cell_type": "code",
   "execution_count": 2,
   "id": "af70862e",
   "metadata": {},
   "outputs": [
    {
     "data": {
      "text/html": [
       "<div>\n",
       "<style scoped>\n",
       "    .dataframe tbody tr th:only-of-type {\n",
       "        vertical-align: middle;\n",
       "    }\n",
       "\n",
       "    .dataframe tbody tr th {\n",
       "        vertical-align: top;\n",
       "    }\n",
       "\n",
       "    .dataframe thead th {\n",
       "        text-align: right;\n",
       "    }\n",
       "</style>\n",
       "<table border=\"1\" class=\"dataframe\">\n",
       "  <thead>\n",
       "    <tr style=\"text-align: right;\">\n",
       "      <th></th>\n",
       "      <th>course_id</th>\n",
       "      <th>course_title</th>\n",
       "      <th>url</th>\n",
       "      <th>is_paid</th>\n",
       "      <th>price</th>\n",
       "      <th>num_subscribers</th>\n",
       "      <th>num_reviews</th>\n",
       "      <th>num_lectures</th>\n",
       "      <th>level</th>\n",
       "      <th>content_duration</th>\n",
       "      <th>published_timestamp</th>\n",
       "      <th>subject</th>\n",
       "    </tr>\n",
       "  </thead>\n",
       "  <tbody>\n",
       "    <tr>\n",
       "      <th>0</th>\n",
       "      <td>1070968</td>\n",
       "      <td>Ultimate Investment Banking Course</td>\n",
       "      <td>https://www.udemy.com/ultimate-investment-bank...</td>\n",
       "      <td>True</td>\n",
       "      <td>200</td>\n",
       "      <td>2147</td>\n",
       "      <td>23</td>\n",
       "      <td>51</td>\n",
       "      <td>All Levels</td>\n",
       "      <td>1.5</td>\n",
       "      <td>2017-01-18 20:58:58+00:00</td>\n",
       "      <td>Business Finance</td>\n",
       "    </tr>\n",
       "    <tr>\n",
       "      <th>1</th>\n",
       "      <td>1113822</td>\n",
       "      <td>Complete GST Course &amp; Certification - Grow You...</td>\n",
       "      <td>https://www.udemy.com/goods-and-services-tax/</td>\n",
       "      <td>True</td>\n",
       "      <td>75</td>\n",
       "      <td>2792</td>\n",
       "      <td>923</td>\n",
       "      <td>274</td>\n",
       "      <td>All Levels</td>\n",
       "      <td>39.0</td>\n",
       "      <td>2017-03-09 16:34:20+00:00</td>\n",
       "      <td>Business Finance</td>\n",
       "    </tr>\n",
       "    <tr>\n",
       "      <th>2</th>\n",
       "      <td>1006314</td>\n",
       "      <td>Financial Modeling for Business Analysts and C...</td>\n",
       "      <td>https://www.udemy.com/financial-modeling-for-b...</td>\n",
       "      <td>True</td>\n",
       "      <td>45</td>\n",
       "      <td>2174</td>\n",
       "      <td>74</td>\n",
       "      <td>51</td>\n",
       "      <td>Intermediate Level</td>\n",
       "      <td>2.5</td>\n",
       "      <td>2016-12-19 19:26:30+00:00</td>\n",
       "      <td>Business Finance</td>\n",
       "    </tr>\n",
       "    <tr>\n",
       "      <th>3</th>\n",
       "      <td>1210588</td>\n",
       "      <td>Beginner to Pro - Financial Analysis in Excel ...</td>\n",
       "      <td>https://www.udemy.com/complete-excel-finance-c...</td>\n",
       "      <td>True</td>\n",
       "      <td>95</td>\n",
       "      <td>2451</td>\n",
       "      <td>11</td>\n",
       "      <td>36</td>\n",
       "      <td>All Levels</td>\n",
       "      <td>3.0</td>\n",
       "      <td>2017-05-30 20:07:24+00:00</td>\n",
       "      <td>Business Finance</td>\n",
       "    </tr>\n",
       "    <tr>\n",
       "      <th>4</th>\n",
       "      <td>1011058</td>\n",
       "      <td>How To Maximize Your Profits Trading Options</td>\n",
       "      <td>https://www.udemy.com/how-to-maximize-your-pro...</td>\n",
       "      <td>True</td>\n",
       "      <td>200</td>\n",
       "      <td>1276</td>\n",
       "      <td>45</td>\n",
       "      <td>26</td>\n",
       "      <td>Intermediate Level</td>\n",
       "      <td>2.0</td>\n",
       "      <td>2016-12-13 14:57:18+00:00</td>\n",
       "      <td>Business Finance</td>\n",
       "    </tr>\n",
       "  </tbody>\n",
       "</table>\n",
       "</div>"
      ],
      "text/plain": [
       "   course_id                                       course_title  \\\n",
       "0    1070968                 Ultimate Investment Banking Course   \n",
       "1    1113822  Complete GST Course & Certification - Grow You...   \n",
       "2    1006314  Financial Modeling for Business Analysts and C...   \n",
       "3    1210588  Beginner to Pro - Financial Analysis in Excel ...   \n",
       "4    1011058       How To Maximize Your Profits Trading Options   \n",
       "\n",
       "                                                 url  is_paid  price  \\\n",
       "0  https://www.udemy.com/ultimate-investment-bank...     True    200   \n",
       "1      https://www.udemy.com/goods-and-services-tax/     True     75   \n",
       "2  https://www.udemy.com/financial-modeling-for-b...     True     45   \n",
       "3  https://www.udemy.com/complete-excel-finance-c...     True     95   \n",
       "4  https://www.udemy.com/how-to-maximize-your-pro...     True    200   \n",
       "\n",
       "   num_subscribers  num_reviews  num_lectures               level  \\\n",
       "0             2147           23            51          All Levels   \n",
       "1             2792          923           274          All Levels   \n",
       "2             2174           74            51  Intermediate Level   \n",
       "3             2451           11            36          All Levels   \n",
       "4             1276           45            26  Intermediate Level   \n",
       "\n",
       "   content_duration       published_timestamp           subject  \n",
       "0               1.5 2017-01-18 20:58:58+00:00  Business Finance  \n",
       "1              39.0 2017-03-09 16:34:20+00:00  Business Finance  \n",
       "2               2.5 2016-12-19 19:26:30+00:00  Business Finance  \n",
       "3               3.0 2017-05-30 20:07:24+00:00  Business Finance  \n",
       "4               2.0 2016-12-13 14:57:18+00:00  Business Finance  "
      ]
     },
     "execution_count": 2,
     "metadata": {},
     "output_type": "execute_result"
    }
   ],
   "source": [
    "data=pd.read_csv('E:\\\\CV\\\\projects\\\\udemy_courses.csv',parse_dates=['published_timestamp'])\n",
    "data.head()"
   ]
  },
  {
   "cell_type": "code",
   "execution_count": 3,
   "id": "3ed96fbb",
   "metadata": {},
   "outputs": [
    {
     "name": "stdout",
     "output_type": "stream",
     "text": [
      "<class 'pandas.core.frame.DataFrame'>\n",
      "RangeIndex: 3678 entries, 0 to 3677\n",
      "Data columns (total 12 columns):\n",
      " #   Column               Non-Null Count  Dtype              \n",
      "---  ------               --------------  -----              \n",
      " 0   course_id            3678 non-null   int64              \n",
      " 1   course_title         3678 non-null   object             \n",
      " 2   url                  3678 non-null   object             \n",
      " 3   is_paid              3678 non-null   bool               \n",
      " 4   price                3678 non-null   int64              \n",
      " 5   num_subscribers      3678 non-null   int64              \n",
      " 6   num_reviews          3678 non-null   int64              \n",
      " 7   num_lectures         3678 non-null   int64              \n",
      " 8   level                3678 non-null   object             \n",
      " 9   content_duration     3678 non-null   float64            \n",
      " 10  published_timestamp  3678 non-null   datetime64[ns, UTC]\n",
      " 11  subject              3678 non-null   object             \n",
      "dtypes: bool(1), datetime64[ns, UTC](1), float64(1), int64(5), object(4)\n",
      "memory usage: 319.8+ KB\n"
     ]
    }
   ],
   "source": [
    "data.info()"
   ]
  },
  {
   "cell_type": "code",
   "execution_count": 5,
   "id": "6dce09c5",
   "metadata": {},
   "outputs": [
    {
     "data": {
      "text/plain": [
       "(3678, 12)"
      ]
     },
     "execution_count": 5,
     "metadata": {},
     "output_type": "execute_result"
    }
   ],
   "source": [
    "data.shape"
   ]
  },
  {
   "cell_type": "code",
   "execution_count": 6,
   "id": "ec8b2b2c",
   "metadata": {},
   "outputs": [
    {
     "data": {
      "text/html": [
       "<div>\n",
       "<style scoped>\n",
       "    .dataframe tbody tr th:only-of-type {\n",
       "        vertical-align: middle;\n",
       "    }\n",
       "\n",
       "    .dataframe tbody tr th {\n",
       "        vertical-align: top;\n",
       "    }\n",
       "\n",
       "    .dataframe thead th {\n",
       "        text-align: right;\n",
       "    }\n",
       "</style>\n",
       "<table border=\"1\" class=\"dataframe\">\n",
       "  <thead>\n",
       "    <tr style=\"text-align: right;\">\n",
       "      <th></th>\n",
       "      <th>course_id</th>\n",
       "      <th>course_title</th>\n",
       "      <th>url</th>\n",
       "      <th>is_paid</th>\n",
       "      <th>price</th>\n",
       "      <th>num_subscribers</th>\n",
       "      <th>num_reviews</th>\n",
       "      <th>num_lectures</th>\n",
       "      <th>level</th>\n",
       "      <th>content_duration</th>\n",
       "      <th>published_timestamp</th>\n",
       "      <th>subject</th>\n",
       "    </tr>\n",
       "  </thead>\n",
       "  <tbody>\n",
       "    <tr>\n",
       "      <th>0</th>\n",
       "      <td>1070968</td>\n",
       "      <td>Ultimate Investment Banking Course</td>\n",
       "      <td>https://www.udemy.com/ultimate-investment-bank...</td>\n",
       "      <td>True</td>\n",
       "      <td>200</td>\n",
       "      <td>2147</td>\n",
       "      <td>23</td>\n",
       "      <td>51</td>\n",
       "      <td>All Levels</td>\n",
       "      <td>1.5</td>\n",
       "      <td>2017-01-18 20:58:58+00:00</td>\n",
       "      <td>Business Finance</td>\n",
       "    </tr>\n",
       "    <tr>\n",
       "      <th>1</th>\n",
       "      <td>1113822</td>\n",
       "      <td>Complete GST Course &amp; Certification - Grow You...</td>\n",
       "      <td>https://www.udemy.com/goods-and-services-tax/</td>\n",
       "      <td>True</td>\n",
       "      <td>75</td>\n",
       "      <td>2792</td>\n",
       "      <td>923</td>\n",
       "      <td>274</td>\n",
       "      <td>All Levels</td>\n",
       "      <td>39.0</td>\n",
       "      <td>2017-03-09 16:34:20+00:00</td>\n",
       "      <td>Business Finance</td>\n",
       "    </tr>\n",
       "    <tr>\n",
       "      <th>2</th>\n",
       "      <td>1006314</td>\n",
       "      <td>Financial Modeling for Business Analysts and C...</td>\n",
       "      <td>https://www.udemy.com/financial-modeling-for-b...</td>\n",
       "      <td>True</td>\n",
       "      <td>45</td>\n",
       "      <td>2174</td>\n",
       "      <td>74</td>\n",
       "      <td>51</td>\n",
       "      <td>Intermediate Level</td>\n",
       "      <td>2.5</td>\n",
       "      <td>2016-12-19 19:26:30+00:00</td>\n",
       "      <td>Business Finance</td>\n",
       "    </tr>\n",
       "    <tr>\n",
       "      <th>3</th>\n",
       "      <td>1210588</td>\n",
       "      <td>Beginner to Pro - Financial Analysis in Excel ...</td>\n",
       "      <td>https://www.udemy.com/complete-excel-finance-c...</td>\n",
       "      <td>True</td>\n",
       "      <td>95</td>\n",
       "      <td>2451</td>\n",
       "      <td>11</td>\n",
       "      <td>36</td>\n",
       "      <td>All Levels</td>\n",
       "      <td>3.0</td>\n",
       "      <td>2017-05-30 20:07:24+00:00</td>\n",
       "      <td>Business Finance</td>\n",
       "    </tr>\n",
       "    <tr>\n",
       "      <th>4</th>\n",
       "      <td>1011058</td>\n",
       "      <td>How To Maximize Your Profits Trading Options</td>\n",
       "      <td>https://www.udemy.com/how-to-maximize-your-pro...</td>\n",
       "      <td>True</td>\n",
       "      <td>200</td>\n",
       "      <td>1276</td>\n",
       "      <td>45</td>\n",
       "      <td>26</td>\n",
       "      <td>Intermediate Level</td>\n",
       "      <td>2.0</td>\n",
       "      <td>2016-12-13 14:57:18+00:00</td>\n",
       "      <td>Business Finance</td>\n",
       "    </tr>\n",
       "    <tr>\n",
       "      <th>...</th>\n",
       "      <td>...</td>\n",
       "      <td>...</td>\n",
       "      <td>...</td>\n",
       "      <td>...</td>\n",
       "      <td>...</td>\n",
       "      <td>...</td>\n",
       "      <td>...</td>\n",
       "      <td>...</td>\n",
       "      <td>...</td>\n",
       "      <td>...</td>\n",
       "      <td>...</td>\n",
       "      <td>...</td>\n",
       "    </tr>\n",
       "    <tr>\n",
       "      <th>3673</th>\n",
       "      <td>775618</td>\n",
       "      <td>Learn jQuery from Scratch - Master of JavaScri...</td>\n",
       "      <td>https://www.udemy.com/easy-jquery-for-beginner...</td>\n",
       "      <td>True</td>\n",
       "      <td>100</td>\n",
       "      <td>1040</td>\n",
       "      <td>14</td>\n",
       "      <td>21</td>\n",
       "      <td>All Levels</td>\n",
       "      <td>2.0</td>\n",
       "      <td>2016-06-14 17:36:46+00:00</td>\n",
       "      <td>Web Development</td>\n",
       "    </tr>\n",
       "    <tr>\n",
       "      <th>3674</th>\n",
       "      <td>1088178</td>\n",
       "      <td>How To Design A WordPress Website With No Codi...</td>\n",
       "      <td>https://www.udemy.com/how-to-make-a-wordpress-...</td>\n",
       "      <td>True</td>\n",
       "      <td>25</td>\n",
       "      <td>306</td>\n",
       "      <td>3</td>\n",
       "      <td>42</td>\n",
       "      <td>Beginner Level</td>\n",
       "      <td>3.5</td>\n",
       "      <td>2017-03-10 22:24:30+00:00</td>\n",
       "      <td>Web Development</td>\n",
       "    </tr>\n",
       "    <tr>\n",
       "      <th>3675</th>\n",
       "      <td>635248</td>\n",
       "      <td>Learn and Build using Polymer</td>\n",
       "      <td>https://www.udemy.com/learn-and-build-using-po...</td>\n",
       "      <td>True</td>\n",
       "      <td>40</td>\n",
       "      <td>513</td>\n",
       "      <td>169</td>\n",
       "      <td>48</td>\n",
       "      <td>All Levels</td>\n",
       "      <td>3.5</td>\n",
       "      <td>2015-12-30 16:41:42+00:00</td>\n",
       "      <td>Web Development</td>\n",
       "    </tr>\n",
       "    <tr>\n",
       "      <th>3676</th>\n",
       "      <td>905096</td>\n",
       "      <td>CSS Animations: Create Amazing Effects on Your...</td>\n",
       "      <td>https://www.udemy.com/css-animations-create-am...</td>\n",
       "      <td>True</td>\n",
       "      <td>50</td>\n",
       "      <td>300</td>\n",
       "      <td>31</td>\n",
       "      <td>38</td>\n",
       "      <td>All Levels</td>\n",
       "      <td>3.0</td>\n",
       "      <td>2016-08-11 19:06:15+00:00</td>\n",
       "      <td>Web Development</td>\n",
       "    </tr>\n",
       "    <tr>\n",
       "      <th>3677</th>\n",
       "      <td>297602</td>\n",
       "      <td>Using MODX CMS to Build Websites: A Beginner's...</td>\n",
       "      <td>https://www.udemy.com/using-modx-cms-to-build-...</td>\n",
       "      <td>True</td>\n",
       "      <td>45</td>\n",
       "      <td>901</td>\n",
       "      <td>36</td>\n",
       "      <td>20</td>\n",
       "      <td>Beginner Level</td>\n",
       "      <td>2.0</td>\n",
       "      <td>2014-09-28 19:51:11+00:00</td>\n",
       "      <td>Web Development</td>\n",
       "    </tr>\n",
       "  </tbody>\n",
       "</table>\n",
       "<p>3672 rows × 12 columns</p>\n",
       "</div>"
      ],
      "text/plain": [
       "      course_id                                       course_title  \\\n",
       "0       1070968                 Ultimate Investment Banking Course   \n",
       "1       1113822  Complete GST Course & Certification - Grow You...   \n",
       "2       1006314  Financial Modeling for Business Analysts and C...   \n",
       "3       1210588  Beginner to Pro - Financial Analysis in Excel ...   \n",
       "4       1011058       How To Maximize Your Profits Trading Options   \n",
       "...         ...                                                ...   \n",
       "3673     775618  Learn jQuery from Scratch - Master of JavaScri...   \n",
       "3674    1088178  How To Design A WordPress Website With No Codi...   \n",
       "3675     635248                      Learn and Build using Polymer   \n",
       "3676     905096  CSS Animations: Create Amazing Effects on Your...   \n",
       "3677     297602  Using MODX CMS to Build Websites: A Beginner's...   \n",
       "\n",
       "                                                    url  is_paid  price  \\\n",
       "0     https://www.udemy.com/ultimate-investment-bank...     True    200   \n",
       "1         https://www.udemy.com/goods-and-services-tax/     True     75   \n",
       "2     https://www.udemy.com/financial-modeling-for-b...     True     45   \n",
       "3     https://www.udemy.com/complete-excel-finance-c...     True     95   \n",
       "4     https://www.udemy.com/how-to-maximize-your-pro...     True    200   \n",
       "...                                                 ...      ...    ...   \n",
       "3673  https://www.udemy.com/easy-jquery-for-beginner...     True    100   \n",
       "3674  https://www.udemy.com/how-to-make-a-wordpress-...     True     25   \n",
       "3675  https://www.udemy.com/learn-and-build-using-po...     True     40   \n",
       "3676  https://www.udemy.com/css-animations-create-am...     True     50   \n",
       "3677  https://www.udemy.com/using-modx-cms-to-build-...     True     45   \n",
       "\n",
       "      num_subscribers  num_reviews  num_lectures               level  \\\n",
       "0                2147           23            51          All Levels   \n",
       "1                2792          923           274          All Levels   \n",
       "2                2174           74            51  Intermediate Level   \n",
       "3                2451           11            36          All Levels   \n",
       "4                1276           45            26  Intermediate Level   \n",
       "...               ...          ...           ...                 ...   \n",
       "3673             1040           14            21          All Levels   \n",
       "3674              306            3            42      Beginner Level   \n",
       "3675              513          169            48          All Levels   \n",
       "3676              300           31            38          All Levels   \n",
       "3677              901           36            20      Beginner Level   \n",
       "\n",
       "      content_duration       published_timestamp           subject  \n",
       "0                  1.5 2017-01-18 20:58:58+00:00  Business Finance  \n",
       "1                 39.0 2017-03-09 16:34:20+00:00  Business Finance  \n",
       "2                  2.5 2016-12-19 19:26:30+00:00  Business Finance  \n",
       "3                  3.0 2017-05-30 20:07:24+00:00  Business Finance  \n",
       "4                  2.0 2016-12-13 14:57:18+00:00  Business Finance  \n",
       "...                ...                       ...               ...  \n",
       "3673               2.0 2016-06-14 17:36:46+00:00   Web Development  \n",
       "3674               3.5 2017-03-10 22:24:30+00:00   Web Development  \n",
       "3675               3.5 2015-12-30 16:41:42+00:00   Web Development  \n",
       "3676               3.0 2016-08-11 19:06:15+00:00   Web Development  \n",
       "3677               2.0 2014-09-28 19:51:11+00:00   Web Development  \n",
       "\n",
       "[3672 rows x 12 columns]"
      ]
     },
     "execution_count": 6,
     "metadata": {},
     "output_type": "execute_result"
    }
   ],
   "source": [
    "data.drop_duplicates()"
   ]
  },
  {
   "cell_type": "code",
   "execution_count": 9,
   "id": "70eaad27",
   "metadata": {},
   "outputs": [
    {
     "data": {
      "text/plain": [
       "Index(['course_id', 'course_title', 'url', 'is_paid', 'price',\n",
       "       'num_subscribers', 'num_reviews', 'num_lectures', 'level',\n",
       "       'content_duration', 'published_timestamp', 'subject'],\n",
       "      dtype='object')"
      ]
     },
     "execution_count": 9,
     "metadata": {},
     "output_type": "execute_result"
    }
   ],
   "source": [
    "data.columns"
   ]
  },
  {
   "cell_type": "code",
   "execution_count": 10,
   "id": "b353cb94",
   "metadata": {},
   "outputs": [
    {
     "data": {
      "text/plain": [
       "Web Development        1200\n",
       "Business Finance       1195\n",
       "Musical Instruments     680\n",
       "Graphic Design          603\n",
       "Name: subject, dtype: int64"
      ]
     },
     "execution_count": 10,
     "metadata": {},
     "output_type": "execute_result"
    }
   ],
   "source": [
    "#Find Out Number of Courses Per Subjects\n",
    "data['subject'].value_counts()"
   ]
  },
  {
   "cell_type": "code",
   "execution_count": 18,
   "id": "d43bfd9c",
   "metadata": {},
   "outputs": [
    {
     "name": "stderr",
     "output_type": "stream",
     "text": [
      "C:\\ProgramData\\Anaconda3\\lib\\site-packages\\seaborn\\_decorators.py:36: FutureWarning: Pass the following variable as a keyword arg: x. From version 0.12, the only valid positional argument will be `data`, and passing other arguments without an explicit keyword will result in an error or misinterpretation.\n",
      "  warnings.warn(\n"
     ]
    },
    {
     "data": {
      "image/png": "[encoded data removed]",
      "text/plain": [
       "<Figure size 432x288 with 1 Axes>"
      ]
     },
     "metadata": {
      "needs_background": "light"
     },
     "output_type": "display_data"
    }
   ],
   "source": [
    "sns.countplot(data['subject'])\n",
    "plt.xlabel('no.of courses',fontsize=13)\n",
    "plt.ylabel('subject')\n",
    "plt.xticks(rotation=10)\n",
    "plt.show()"
   ]
  },
  {
   "cell_type": "code",
   "execution_count": 19,
   "id": "75d7f5e2",
   "metadata": {},
   "outputs": [
    {
     "data": {
      "text/plain": [
       "All Levels            1929\n",
       "Beginner Level        1270\n",
       "Intermediate Level     421\n",
       "Expert Level            58\n",
       "Name: level, dtype: int64"
      ]
     },
     "execution_count": 19,
     "metadata": {},
     "output_type": "execute_result"
    }
   ],
   "source": [
    "#For Which Levels, Udemy Courses Providing The Courses\n",
    "data['level'].value_counts()"
   ]
  },
  {
   "cell_type": "code",
   "execution_count": 21,
   "id": "24b6b8b2",
   "metadata": {},
   "outputs": [
    {
     "name": "stderr",
     "output_type": "stream",
     "text": [
      "C:\\ProgramData\\Anaconda3\\lib\\site-packages\\seaborn\\_decorators.py:36: FutureWarning: Pass the following variable as a keyword arg: x. From version 0.12, the only valid positional argument will be `data`, and passing other arguments without an explicit keyword will result in an error or misinterpretation.\n",
      "  warnings.warn(\n"
     ]
    },
    {
     "data": {
      "image/png": "[encoded data removed]",
      "text/plain": [
       "<Figure size 432x288 with 1 Axes>"
      ]
     },
     "metadata": {
      "needs_background": "light"
     },
     "output_type": "display_data"
    }
   ],
   "source": [
    "sns.countplot(data['level'])\n",
    "plt.xlabel('levels',fontsize=13)\n",
    "plt.ylabel('no.of courses per level')\n",
    "plt.xticks(rotation=10)\n",
    "plt.show()"
   ]
  },
  {
   "cell_type": "code",
   "execution_count": 22,
   "id": "5278cfd5",
   "metadata": {},
   "outputs": [
    {
     "data": {
      "text/plain": [
       "True     3368\n",
       "False     310\n",
       "Name: is_paid, dtype: int64"
      ]
     },
     "execution_count": 22,
     "metadata": {},
     "output_type": "execute_result"
    }
   ],
   "source": [
    "#Display The Count of Paid and Free Courses\n",
    "data['is_paid'].value_counts()"
   ]
  },
  {
   "cell_type": "code",
   "execution_count": 26,
   "id": "053b6213",
   "metadata": {},
   "outputs": [
    {
     "name": "stderr",
     "output_type": "stream",
     "text": [
      "C:\\ProgramData\\Anaconda3\\lib\\site-packages\\seaborn\\_decorators.py:36: FutureWarning: Pass the following variable as a keyword arg: x. From version 0.12, the only valid positional argument will be `data`, and passing other arguments without an explicit keyword will result in an error or misinterpretation.\n",
      "  warnings.warn(\n"
     ]
    },
    {
     "data": {
      "image/png": "[encoded data removed]",
      "text/plain": [
       "<Figure size 432x288 with 1 Axes>"
      ]
     },
     "metadata": {
      "needs_background": "light"
     },
     "output_type": "display_data"
    }
   ],
   "source": [
    "sns.countplot(data['is_paid'])\n",
    "plt.xlabel('paid or not')\n",
    "plt.ylabel('no.of courses')\n",
    "plt.show()"
   ]
  },
  {
   "cell_type": "code",
   "execution_count": 41,
   "id": "d54a6655",
   "metadata": {},
   "outputs": [
    {
     "data": {
      "text/plain": [
       "is_paid\n",
       "False      6639\n",
       "True     140881\n",
       "Name: num_lectures, dtype: int64"
      ]
     },
     "execution_count": 41,
     "metadata": {},
     "output_type": "execute_result"
    }
   ],
   "source": [
    "#Which Courses Has More Lectures (Free or Paid)?\n",
    "data['num_lectures'].groupby(data['is_paid']).sum()\n",
    "#data['num_lectures'].groupby(data['is_paid']).mean()\n"
   ]
  },
  {
   "cell_type": "code",
   "execution_count": 39,
   "id": "a1ae8e96",
   "metadata": {},
   "outputs": [
    {
     "data": {
      "text/plain": [
       "<AxesSubplot:xlabel='is_paid', ylabel='num_lectures'>"
      ]
     },
     "execution_count": 39,
     "metadata": {},
     "output_type": "execute_result"
    },
    {
     "data": {
      "image/png": "[encoded data removed]",
      "text/plain": [
       "<Figure size 432x288 with 1 Axes>"
      ]
     },
     "metadata": {
      "needs_background": "light"
     },
     "output_type": "display_data"
    }
   ],
   "source": [
    "sns.barplot(data=data,x='is_paid',y='num_lectures')"
   ]
  },
  {
   "cell_type": "code",
   "execution_count": 34,
   "id": "3653117e",
   "metadata": {},
   "outputs": [
    {
     "data": {
      "text/plain": [
       "is_paid\n",
       "False    3575525\n",
       "True     8183595\n",
       "Name: num_subscribers, dtype: int64"
      ]
     },
     "execution_count": 34,
     "metadata": {},
     "output_type": "execute_result"
    }
   ],
   "source": [
    "#Which Courses Have A Higher Number of Subscribers Free or Paid?\n",
    "data['num_subscribers'].groupby(data['is_paid']).sum()"
   ]
  },
  {
   "cell_type": "code",
   "execution_count": 36,
   "id": "4ab190ba",
   "metadata": {},
   "outputs": [
    {
     "data": {
      "text/plain": [
       "<AxesSubplot:xlabel='is_paid', ylabel='num_subscribers'>"
      ]
     },
     "execution_count": 36,
     "metadata": {},
     "output_type": "execute_result"
    },
    {
     "data": {
      "image/png": "[encoded data removed]",
      "text/plain": [
       "<Figure size 432x288 with 1 Axes>"
      ]
     },
     "metadata": {
      "needs_background": "light"
     },
     "output_type": "display_data"
    }
   ],
   "source": [
    "sns.barplot(x='is_paid', y='num_subscribers', data = data)\n"
   ]
  },
  {
   "cell_type": "code",
   "execution_count": 51,
   "id": "e2bf4563",
   "metadata": {},
   "outputs": [
    {
     "data": {
      "text/plain": [
       "level\n",
       "All Levels            6915076\n",
       "Beginner Level        4051843\n",
       "Expert Level            50196\n",
       "Intermediate Level     742005\n",
       "Name: num_subscribers, dtype: int64"
      ]
     },
     "execution_count": 51,
     "metadata": {},
     "output_type": "execute_result"
    }
   ],
   "source": [
    "#Which Level Has The Highest Number of Subscribers?\n",
    "data['num_subscribers'].groupby(data['level']).sum()"
   ]
  },
  {
   "cell_type": "code",
   "execution_count": 48,
   "id": "af1ec6b6",
   "metadata": {},
   "outputs": [
    {
     "data": {
      "image/png": "[encoded data removed]",
      "text/plain": [
       "<Figure size 432x288 with 1 Axes>"
      ]
     },
     "metadata": {
      "needs_background": "light"
     },
     "output_type": "display_data"
    }
   ],
   "source": [
    "sns.barplot(x='level',y='num_subscribers',data=data)\n",
    "plt.xticks(rotation=10)\n",
    "plt.show()"
   ]
  },
  {
   "cell_type": "code",
   "execution_count": 62,
   "id": "23c3386f",
   "metadata": {},
   "outputs": [
    {
     "data": {
      "text/html": [
       "<div>\n",
       "<style scoped>\n",
       "    .dataframe tbody tr th:only-of-type {\n",
       "        vertical-align: middle;\n",
       "    }\n",
       "\n",
       "    .dataframe tbody tr th {\n",
       "        vertical-align: top;\n",
       "    }\n",
       "\n",
       "    .dataframe thead th {\n",
       "        text-align: right;\n",
       "    }\n",
       "</style>\n",
       "<table border=\"1\" class=\"dataframe\">\n",
       "  <thead>\n",
       "    <tr style=\"text-align: right;\">\n",
       "      <th></th>\n",
       "      <th>course_id</th>\n",
       "      <th>course_title</th>\n",
       "      <th>url</th>\n",
       "      <th>is_paid</th>\n",
       "      <th>price</th>\n",
       "      <th>num_subscribers</th>\n",
       "      <th>num_reviews</th>\n",
       "      <th>num_lectures</th>\n",
       "      <th>level</th>\n",
       "      <th>content_duration</th>\n",
       "      <th>published_timestamp</th>\n",
       "      <th>subject</th>\n",
       "    </tr>\n",
       "  </thead>\n",
       "  <tbody>\n",
       "    <tr>\n",
       "      <th>2827</th>\n",
       "      <td>41295</td>\n",
       "      <td>Learn HTML5 Programming From Scratch</td>\n",
       "      <td>https://www.udemy.com/learn-html5-programming-...</td>\n",
       "      <td>False</td>\n",
       "      <td>0</td>\n",
       "      <td>268923</td>\n",
       "      <td>8629</td>\n",
       "      <td>45</td>\n",
       "      <td>All Levels</td>\n",
       "      <td>10.5</td>\n",
       "      <td>2013-02-14 07:03:41+00:00</td>\n",
       "      <td>Web Development</td>\n",
       "    </tr>\n",
       "  </tbody>\n",
       "</table>\n",
       "</div>"
      ],
      "text/plain": [
       "      course_id                          course_title  \\\n",
       "2827      41295  Learn HTML5 Programming From Scratch   \n",
       "\n",
       "                                                    url  is_paid  price  \\\n",
       "2827  https://www.udemy.com/learn-html5-programming-...    False      0   \n",
       "\n",
       "      num_subscribers  num_reviews  num_lectures       level  \\\n",
       "2827           268923         8629            45  All Levels   \n",
       "\n",
       "      content_duration       published_timestamp          subject  \n",
       "2827              10.5 2013-02-14 07:03:41+00:00  Web Development  "
      ]
     },
     "execution_count": 62,
     "metadata": {},
     "output_type": "execute_result"
    }
   ],
   "source": [
    "#Find Most Popular Course Title(based on num_subscribers)\n",
    "data[data['num_subscribers'].max()==data['num_subscribers']] #['course_title']"
   ]
  },
  {
   "cell_type": "code",
   "execution_count": 85,
   "id": "d4e90d3b",
   "metadata": {},
   "outputs": [
    {
     "data": {
      "text/html": [
       "<div>\n",
       "<style scoped>\n",
       "    .dataframe tbody tr th:only-of-type {\n",
       "        vertical-align: middle;\n",
       "    }\n",
       "\n",
       "    .dataframe tbody tr th {\n",
       "        vertical-align: top;\n",
       "    }\n",
       "\n",
       "    .dataframe thead th {\n",
       "        text-align: right;\n",
       "    }\n",
       "</style>\n",
       "<table border=\"1\" class=\"dataframe\">\n",
       "  <thead>\n",
       "    <tr style=\"text-align: right;\">\n",
       "      <th></th>\n",
       "      <th>course_id</th>\n",
       "      <th>course_title</th>\n",
       "      <th>url</th>\n",
       "      <th>is_paid</th>\n",
       "      <th>price</th>\n",
       "      <th>num_subscribers</th>\n",
       "      <th>num_reviews</th>\n",
       "      <th>num_lectures</th>\n",
       "      <th>level</th>\n",
       "      <th>content_duration</th>\n",
       "      <th>published_timestamp</th>\n",
       "      <th>subject</th>\n",
       "    </tr>\n",
       "  </thead>\n",
       "  <tbody>\n",
       "    <tr>\n",
       "      <th>2827</th>\n",
       "      <td>41295</td>\n",
       "      <td>Learn HTML5 Programming From Scratch</td>\n",
       "      <td>https://www.udemy.com/learn-html5-programming-...</td>\n",
       "      <td>False</td>\n",
       "      <td>0</td>\n",
       "      <td>268923</td>\n",
       "      <td>8629</td>\n",
       "      <td>45</td>\n",
       "      <td>All Levels</td>\n",
       "      <td>10.5</td>\n",
       "      <td>2013-02-14 07:03:41+00:00</td>\n",
       "      <td>Web Development</td>\n",
       "    </tr>\n",
       "    <tr>\n",
       "      <th>3032</th>\n",
       "      <td>59014</td>\n",
       "      <td>Coding for Entrepreneurs Basic</td>\n",
       "      <td>https://www.udemy.com/coding-for-entrepreneurs...</td>\n",
       "      <td>False</td>\n",
       "      <td>0</td>\n",
       "      <td>161029</td>\n",
       "      <td>279</td>\n",
       "      <td>27</td>\n",
       "      <td>Beginner Level</td>\n",
       "      <td>3.5</td>\n",
       "      <td>2013-06-09 15:51:55+00:00</td>\n",
       "      <td>Web Development</td>\n",
       "    </tr>\n",
       "    <tr>\n",
       "      <th>3230</th>\n",
       "      <td>625204</td>\n",
       "      <td>The Web Developer Bootcamp</td>\n",
       "      <td>https://www.udemy.com/the-web-developer-bootcamp/</td>\n",
       "      <td>True</td>\n",
       "      <td>200</td>\n",
       "      <td>121584</td>\n",
       "      <td>27445</td>\n",
       "      <td>342</td>\n",
       "      <td>All Levels</td>\n",
       "      <td>43.0</td>\n",
       "      <td>2015-11-02 21:13:27+00:00</td>\n",
       "      <td>Web Development</td>\n",
       "    </tr>\n",
       "    <tr>\n",
       "      <th>2783</th>\n",
       "      <td>173548</td>\n",
       "      <td>Build Your First Website in 1 Week with HTML5 ...</td>\n",
       "      <td>https://www.udemy.com/build-your-first-website...</td>\n",
       "      <td>False</td>\n",
       "      <td>0</td>\n",
       "      <td>120291</td>\n",
       "      <td>5924</td>\n",
       "      <td>30</td>\n",
       "      <td>Beginner Level</td>\n",
       "      <td>3.0</td>\n",
       "      <td>2014-04-08 16:21:30+00:00</td>\n",
       "      <td>Web Development</td>\n",
       "    </tr>\n",
       "    <tr>\n",
       "      <th>3232</th>\n",
       "      <td>764164</td>\n",
       "      <td>The Complete Web Developer Course 2.0</td>\n",
       "      <td>https://www.udemy.com/the-complete-web-develop...</td>\n",
       "      <td>True</td>\n",
       "      <td>200</td>\n",
       "      <td>114512</td>\n",
       "      <td>22412</td>\n",
       "      <td>304</td>\n",
       "      <td>All Levels</td>\n",
       "      <td>30.5</td>\n",
       "      <td>2016-03-08 22:28:36+00:00</td>\n",
       "      <td>Web Development</td>\n",
       "    </tr>\n",
       "    <tr>\n",
       "      <th>1896</th>\n",
       "      <td>19421</td>\n",
       "      <td>Free Beginner Electric Guitar Lessons</td>\n",
       "      <td>https://www.udemy.com/beginner-electric-guitar...</td>\n",
       "      <td>False</td>\n",
       "      <td>0</td>\n",
       "      <td>101154</td>\n",
       "      <td>1042</td>\n",
       "      <td>95</td>\n",
       "      <td>Beginner Level</td>\n",
       "      <td>4.5</td>\n",
       "      <td>2012-06-15 17:00:33+00:00</td>\n",
       "      <td>Musical Instruments</td>\n",
       "    </tr>\n",
       "    <tr>\n",
       "      <th>2589</th>\n",
       "      <td>473160</td>\n",
       "      <td>Web Design for Web Developers: Build Beautiful...</td>\n",
       "      <td>https://www.udemy.com/web-design-secrets/</td>\n",
       "      <td>False</td>\n",
       "      <td>0</td>\n",
       "      <td>98867</td>\n",
       "      <td>6512</td>\n",
       "      <td>20</td>\n",
       "      <td>All Levels</td>\n",
       "      <td>3.0</td>\n",
       "      <td>2015-04-13 18:29:47+00:00</td>\n",
       "      <td>Web Development</td>\n",
       "    </tr>\n",
       "    <tr>\n",
       "      <th>2619</th>\n",
       "      <td>94430</td>\n",
       "      <td>Learn Javascript &amp; JQuery From Scratch</td>\n",
       "      <td>https://www.udemy.com/learn-javascript-jquery-...</td>\n",
       "      <td>True</td>\n",
       "      <td>30</td>\n",
       "      <td>84897</td>\n",
       "      <td>2685</td>\n",
       "      <td>10</td>\n",
       "      <td>All Levels</td>\n",
       "      <td>2.0</td>\n",
       "      <td>2013-10-10 15:19:29+00:00</td>\n",
       "      <td>Web Development</td>\n",
       "    </tr>\n",
       "    <tr>\n",
       "      <th>3289</th>\n",
       "      <td>130064</td>\n",
       "      <td>Practical PHP: Master the Basics and Code Dyna...</td>\n",
       "      <td>https://www.udemy.com/code-dynamic-websites/</td>\n",
       "      <td>False</td>\n",
       "      <td>0</td>\n",
       "      <td>83737</td>\n",
       "      <td>4598</td>\n",
       "      <td>45</td>\n",
       "      <td>All Levels</td>\n",
       "      <td>6.5</td>\n",
       "      <td>2014-07-19 03:02:05+00:00</td>\n",
       "      <td>Web Development</td>\n",
       "    </tr>\n",
       "    <tr>\n",
       "      <th>3247</th>\n",
       "      <td>364426</td>\n",
       "      <td>JavaScript: Understanding the Weird Parts</td>\n",
       "      <td>https://www.udemy.com/understand-javascript/</td>\n",
       "      <td>True</td>\n",
       "      <td>175</td>\n",
       "      <td>79612</td>\n",
       "      <td>16976</td>\n",
       "      <td>85</td>\n",
       "      <td>All Levels</td>\n",
       "      <td>11.5</td>\n",
       "      <td>2015-03-12 23:19:54+00:00</td>\n",
       "      <td>Web Development</td>\n",
       "    </tr>\n",
       "  </tbody>\n",
       "</table>\n",
       "</div>"
      ],
      "text/plain": [
       "      course_id                                       course_title  \\\n",
       "2827      41295               Learn HTML5 Programming From Scratch   \n",
       "3032      59014                     Coding for Entrepreneurs Basic   \n",
       "3230     625204                         The Web Developer Bootcamp   \n",
       "2783     173548  Build Your First Website in 1 Week with HTML5 ...   \n",
       "3232     764164              The Complete Web Developer Course 2.0   \n",
       "1896      19421              Free Beginner Electric Guitar Lessons   \n",
       "2589     473160  Web Design for Web Developers: Build Beautiful...   \n",
       "2619      94430             Learn Javascript & JQuery From Scratch   \n",
       "3289     130064  Practical PHP: Master the Basics and Code Dyna...   \n",
       "3247     364426          JavaScript: Understanding the Weird Parts   \n",
       "\n",
       "                                                    url  is_paid  price  \\\n",
       "2827  https://www.udemy.com/learn-html5-programming-...    False      0   \n",
       "3032  https://www.udemy.com/coding-for-entrepreneurs...    False      0   \n",
       "3230  https://www.udemy.com/the-web-developer-bootcamp/     True    200   \n",
       "2783  https://www.udemy.com/build-your-first-website...    False      0   \n",
       "3232  https://www.udemy.com/the-complete-web-develop...     True    200   \n",
       "1896  https://www.udemy.com/beginner-electric-guitar...    False      0   \n",
       "2589          https://www.udemy.com/web-design-secrets/    False      0   \n",
       "2619  https://www.udemy.com/learn-javascript-jquery-...     True     30   \n",
       "3289       https://www.udemy.com/code-dynamic-websites/    False      0   \n",
       "3247       https://www.udemy.com/understand-javascript/     True    175   \n",
       "\n",
       "      num_subscribers  num_reviews  num_lectures           level  \\\n",
       "2827           268923         8629            45      All Levels   \n",
       "3032           161029          279            27  Beginner Level   \n",
       "3230           121584        27445           342      All Levels   \n",
       "2783           120291         5924            30  Beginner Level   \n",
       "3232           114512        22412           304      All Levels   \n",
       "1896           101154         1042            95  Beginner Level   \n",
       "2589            98867         6512            20      All Levels   \n",
       "2619            84897         2685            10      All Levels   \n",
       "3289            83737         4598            45      All Levels   \n",
       "3247            79612        16976            85      All Levels   \n",
       "\n",
       "      content_duration       published_timestamp              subject  \n",
       "2827              10.5 2013-02-14 07:03:41+00:00      Web Development  \n",
       "3032               3.5 2013-06-09 15:51:55+00:00      Web Development  \n",
       "3230              43.0 2015-11-02 21:13:27+00:00      Web Development  \n",
       "2783               3.0 2014-04-08 16:21:30+00:00      Web Development  \n",
       "3232              30.5 2016-03-08 22:28:36+00:00      Web Development  \n",
       "1896               4.5 2012-06-15 17:00:33+00:00  Musical Instruments  \n",
       "2589               3.0 2015-04-13 18:29:47+00:00      Web Development  \n",
       "2619               2.0 2013-10-10 15:19:29+00:00      Web Development  \n",
       "3289               6.5 2014-07-19 03:02:05+00:00      Web Development  \n",
       "3247              11.5 2015-03-12 23:19:54+00:00      Web Development  "
      ]
     },
     "execution_count": 85,
     "metadata": {},
     "output_type": "execute_result"
    }
   ],
   "source": [
    "#Display 10 Most Popular Courses As Per Number of Subscribers\n",
    "Most_Popular_Courses=data.sort_values(by='num_subscribers',ascending=False).head(10)\n",
    "Most_Popular_Courses"
   ]
  },
  {
   "cell_type": "code",
   "execution_count": 80,
   "id": "d33f472c",
   "metadata": {},
   "outputs": [
    {
     "data": {
      "text/plain": [
       "<AxesSubplot:xlabel='num_subscribers', ylabel='course_title'>"
      ]
     },
     "execution_count": 80,
     "metadata": {},
     "output_type": "execute_result"
    },
    {
     "data": {
      "image/png": "[encoded data removed]",
      "text/plain": [
       "<Figure size 432x288 with 1 Axes>"
      ]
     },
     "metadata": {
      "needs_background": "light"
     },
     "output_type": "display_data"
    }
   ],
   "source": [
    "sns.barplot(y='course_title',x='num_subscribers',data=Most_Popular_Courses)\n"
   ]
  },
  {
   "cell_type": "code",
   "execution_count": 93,
   "id": "1f0afde7",
   "metadata": {},
   "outputs": [
    {
     "data": {
      "text/plain": [
       "3230    Web Development\n",
       "Name: subject, dtype: object"
      ]
     },
     "execution_count": 93,
     "metadata": {},
     "output_type": "execute_result"
    }
   ],
   "source": [
    "#Finding The subject Which Is Having The Highest Number of Reviews\n",
    "data[data['num_reviews'].max()==data['num_reviews']]['subject']"
   ]
  },
  {
   "cell_type": "code",
   "execution_count": 95,
   "id": "784fc4d7",
   "metadata": {},
   "outputs": [
    {
     "data": {
      "text/plain": [
       "subject\n",
       "Business Finance        75902\n",
       "Graphic Design          37070\n",
       "Musical Instruments     31724\n",
       "Web Development        430025\n",
       "Name: num_reviews, dtype: int64"
      ]
     },
     "execution_count": 95,
     "metadata": {},
     "output_type": "execute_result"
    }
   ],
   "source": [
    "data['num_reviews'].groupby(data['subject']).sum()"
   ]
  },
  {
   "cell_type": "code",
   "execution_count": 99,
   "id": "b89e041b",
   "metadata": {},
   "outputs": [
    {
     "data": {
      "image/png": "[encoded data removed]",
      "text/plain": [
       "<Figure size 432x288 with 1 Axes>"
      ]
     },
     "metadata": {
      "needs_background": "light"
     },
     "output_type": "display_data"
    }
   ],
   "source": [
    "sns.barplot(x='subject',y='num_reviews',data=data)\n",
    "plt.xticks(rotation=10)\n",
    "plt.show()"
   ]
  },
  {
   "cell_type": "code",
   "execution_count": 103,
   "id": "9aa54da7",
   "metadata": {},
   "outputs": [
    {
     "data": {
      "text/plain": [
       "<AxesSubplot:xlabel='price', ylabel='num_reviews'>"
      ]
     },
     "execution_count": 103,
     "metadata": {},
     "output_type": "execute_result"
    },
    {
     "data": {
      "image/png": "[encoded data removed]",
      "text/plain": [
       "<Figure size 432x288 with 1 Axes>"
      ]
     },
     "metadata": {
      "needs_background": "light"
     },
     "output_type": "display_data"
    }
   ],
   "source": [
    "#Does Price Affect the Number of Reviews?\n",
    "\n",
    "sns.scatterplot(x='price',y='num_reviews',data=data)"
   ]
  },
  {
   "cell_type": "code",
   "execution_count": 122,
   "id": "8aa3801a",
   "metadata": {},
   "outputs": [
    {
     "name": "stdout",
     "output_type": "stream",
     "text": [
      "29\n"
     ]
    }
   ],
   "source": [
    "#Find Total Number of Courses Related To Python\n",
    "python_courses=(data[data['course_title'].str.contains('python',case=False)])\n",
    "print(len(python_courses))\n",
    "#data[data['course_title'].str.contains('python',case=False)]['course_title']\n"
   ]
  },
  {
   "cell_type": "code",
   "execution_count": 129,
   "id": "4e6076e4",
   "metadata": {},
   "outputs": [
    {
     "data": {
      "text/html": [
       "<div>\n",
       "<style scoped>\n",
       "    .dataframe tbody tr th:only-of-type {\n",
       "        vertical-align: middle;\n",
       "    }\n",
       "\n",
       "    .dataframe tbody tr th {\n",
       "        vertical-align: top;\n",
       "    }\n",
       "\n",
       "    .dataframe thead th {\n",
       "        text-align: right;\n",
       "    }\n",
       "</style>\n",
       "<table border=\"1\" class=\"dataframe\">\n",
       "  <thead>\n",
       "    <tr style=\"text-align: right;\">\n",
       "      <th></th>\n",
       "      <th>course_id</th>\n",
       "      <th>course_title</th>\n",
       "      <th>url</th>\n",
       "      <th>is_paid</th>\n",
       "      <th>price</th>\n",
       "      <th>num_subscribers</th>\n",
       "      <th>num_reviews</th>\n",
       "      <th>num_lectures</th>\n",
       "      <th>level</th>\n",
       "      <th>content_duration</th>\n",
       "      <th>published_timestamp</th>\n",
       "      <th>subject</th>\n",
       "    </tr>\n",
       "  </thead>\n",
       "  <tbody>\n",
       "    <tr>\n",
       "      <th>2497</th>\n",
       "      <td>16646</td>\n",
       "      <td>Web Programming with Python</td>\n",
       "      <td>https://www.udemy.com/web-programming-with-pyt...</td>\n",
       "      <td>True</td>\n",
       "      <td>50</td>\n",
       "      <td>35267</td>\n",
       "      <td>217</td>\n",
       "      <td>53</td>\n",
       "      <td>All Levels</td>\n",
       "      <td>4.0</td>\n",
       "      <td>2012-04-25 00:01:43+00:00</td>\n",
       "      <td>Web Development</td>\n",
       "    </tr>\n",
       "    <tr>\n",
       "      <th>2570</th>\n",
       "      <td>47963</td>\n",
       "      <td>Coding for Entrepreneurs: Learn Python, Django...</td>\n",
       "      <td>https://www.udemy.com/coding-for-entrepreneurs/</td>\n",
       "      <td>True</td>\n",
       "      <td>195</td>\n",
       "      <td>23412</td>\n",
       "      <td>799</td>\n",
       "      <td>251</td>\n",
       "      <td>All Levels</td>\n",
       "      <td>45.0</td>\n",
       "      <td>2013-04-08 00:46:14+00:00</td>\n",
       "      <td>Web Development</td>\n",
       "    </tr>\n",
       "    <tr>\n",
       "      <th>2528</th>\n",
       "      <td>391546</td>\n",
       "      <td>Learn Python and Django: Payment Processing</td>\n",
       "      <td>https://www.udemy.com/learn-django-code-accept...</td>\n",
       "      <td>True</td>\n",
       "      <td>70</td>\n",
       "      <td>17714</td>\n",
       "      <td>198</td>\n",
       "      <td>23</td>\n",
       "      <td>All Levels</td>\n",
       "      <td>3.5</td>\n",
       "      <td>2015-02-09 15:37:56+00:00</td>\n",
       "      <td>Web Development</td>\n",
       "    </tr>\n",
       "    <tr>\n",
       "      <th>3200</th>\n",
       "      <td>822444</td>\n",
       "      <td>Python and Django Full Stack Web Developer Boo...</td>\n",
       "      <td>https://www.udemy.com/python-and-django-full-s...</td>\n",
       "      <td>True</td>\n",
       "      <td>200</td>\n",
       "      <td>11832</td>\n",
       "      <td>1883</td>\n",
       "      <td>191</td>\n",
       "      <td>All Levels</td>\n",
       "      <td>31.5</td>\n",
       "      <td>2017-02-24 18:40:55+00:00</td>\n",
       "      <td>Web Development</td>\n",
       "    </tr>\n",
       "    <tr>\n",
       "      <th>3507</th>\n",
       "      <td>394832</td>\n",
       "      <td>Fun and creative web engineering with Python a...</td>\n",
       "      <td>https://www.udemy.com/web-engineering-with-pyt...</td>\n",
       "      <td>False</td>\n",
       "      <td>0</td>\n",
       "      <td>10917</td>\n",
       "      <td>319</td>\n",
       "      <td>25</td>\n",
       "      <td>All Levels</td>\n",
       "      <td>2.0</td>\n",
       "      <td>2015-06-09 19:51:50+00:00</td>\n",
       "      <td>Web Development</td>\n",
       "    </tr>\n",
       "    <tr>\n",
       "      <th>2553</th>\n",
       "      <td>938560</td>\n",
       "      <td>The Complete Ethical Hacking Course 2.0: Pytho...</td>\n",
       "      <td>https://www.udemy.com/penetration-testing-ethi...</td>\n",
       "      <td>True</td>\n",
       "      <td>195</td>\n",
       "      <td>7827</td>\n",
       "      <td>268</td>\n",
       "      <td>66</td>\n",
       "      <td>All Levels</td>\n",
       "      <td>11.0</td>\n",
       "      <td>2016-09-26 15:08:29+00:00</td>\n",
       "      <td>Web Development</td>\n",
       "    </tr>\n",
       "    <tr>\n",
       "      <th>3138</th>\n",
       "      <td>631128</td>\n",
       "      <td>Complete Python Web Course: Build 8 Python Web...</td>\n",
       "      <td>https://www.udemy.com/the-complete-python-web-...</td>\n",
       "      <td>True</td>\n",
       "      <td>110</td>\n",
       "      <td>7489</td>\n",
       "      <td>941</td>\n",
       "      <td>173</td>\n",
       "      <td>All Levels</td>\n",
       "      <td>16.0</td>\n",
       "      <td>2015-11-08 20:57:35+00:00</td>\n",
       "      <td>Web Development</td>\n",
       "    </tr>\n",
       "    <tr>\n",
       "      <th>3197</th>\n",
       "      <td>76052</td>\n",
       "      <td>Try Django 1.9 | Build a Blog and Learn Python...</td>\n",
       "      <td>https://www.udemy.com/try-django/</td>\n",
       "      <td>True</td>\n",
       "      <td>50</td>\n",
       "      <td>7407</td>\n",
       "      <td>172</td>\n",
       "      <td>147</td>\n",
       "      <td>All Levels</td>\n",
       "      <td>20.0</td>\n",
       "      <td>2014-03-04 07:12:21+00:00</td>\n",
       "      <td>Web Development</td>\n",
       "    </tr>\n",
       "    <tr>\n",
       "      <th>2681</th>\n",
       "      <td>477702</td>\n",
       "      <td>Python for Beginners: Python Programming Langu...</td>\n",
       "      <td>https://www.udemy.com/python-course/</td>\n",
       "      <td>True</td>\n",
       "      <td>150</td>\n",
       "      <td>6153</td>\n",
       "      <td>125</td>\n",
       "      <td>84</td>\n",
       "      <td>Beginner Level</td>\n",
       "      <td>5.0</td>\n",
       "      <td>2015-06-14 18:18:57+00:00</td>\n",
       "      <td>Web Development</td>\n",
       "    </tr>\n",
       "    <tr>\n",
       "      <th>3203</th>\n",
       "      <td>970600</td>\n",
       "      <td>REST APIs with Flask and Python</td>\n",
       "      <td>https://www.udemy.com/rest-api-flask-and-python/</td>\n",
       "      <td>True</td>\n",
       "      <td>110</td>\n",
       "      <td>5151</td>\n",
       "      <td>737</td>\n",
       "      <td>115</td>\n",
       "      <td>Intermediate Level</td>\n",
       "      <td>12.5</td>\n",
       "      <td>2016-11-06 19:00:38+00:00</td>\n",
       "      <td>Web Development</td>\n",
       "    </tr>\n",
       "  </tbody>\n",
       "</table>\n",
       "</div>"
      ],
      "text/plain": [
       "      course_id                                       course_title  \\\n",
       "2497      16646                        Web Programming with Python   \n",
       "2570      47963  Coding for Entrepreneurs: Learn Python, Django...   \n",
       "2528     391546        Learn Python and Django: Payment Processing   \n",
       "3200     822444  Python and Django Full Stack Web Developer Boo...   \n",
       "3507     394832  Fun and creative web engineering with Python a...   \n",
       "2553     938560  The Complete Ethical Hacking Course 2.0: Pytho...   \n",
       "3138     631128  Complete Python Web Course: Build 8 Python Web...   \n",
       "3197      76052  Try Django 1.9 | Build a Blog and Learn Python...   \n",
       "2681     477702  Python for Beginners: Python Programming Langu...   \n",
       "3203     970600                    REST APIs with Flask and Python   \n",
       "\n",
       "                                                    url  is_paid  price  \\\n",
       "2497  https://www.udemy.com/web-programming-with-pyt...     True     50   \n",
       "2570    https://www.udemy.com/coding-for-entrepreneurs/     True    195   \n",
       "2528  https://www.udemy.com/learn-django-code-accept...     True     70   \n",
       "3200  https://www.udemy.com/python-and-django-full-s...     True    200   \n",
       "3507  https://www.udemy.com/web-engineering-with-pyt...    False      0   \n",
       "2553  https://www.udemy.com/penetration-testing-ethi...     True    195   \n",
       "3138  https://www.udemy.com/the-complete-python-web-...     True    110   \n",
       "3197                  https://www.udemy.com/try-django/     True     50   \n",
       "2681               https://www.udemy.com/python-course/     True    150   \n",
       "3203   https://www.udemy.com/rest-api-flask-and-python/     True    110   \n",
       "\n",
       "      num_subscribers  num_reviews  num_lectures               level  \\\n",
       "2497            35267          217            53          All Levels   \n",
       "2570            23412          799           251          All Levels   \n",
       "2528            17714          198            23          All Levels   \n",
       "3200            11832         1883           191          All Levels   \n",
       "3507            10917          319            25          All Levels   \n",
       "2553             7827          268            66          All Levels   \n",
       "3138             7489          941           173          All Levels   \n",
       "3197             7407          172           147          All Levels   \n",
       "2681             6153          125            84      Beginner Level   \n",
       "3203             5151          737           115  Intermediate Level   \n",
       "\n",
       "      content_duration       published_timestamp          subject  \n",
       "2497               4.0 2012-04-25 00:01:43+00:00  Web Development  \n",
       "2570              45.0 2013-04-08 00:46:14+00:00  Web Development  \n",
       "2528               3.5 2015-02-09 15:37:56+00:00  Web Development  \n",
       "3200              31.5 2017-02-24 18:40:55+00:00  Web Development  \n",
       "3507               2.0 2015-06-09 19:51:50+00:00  Web Development  \n",
       "2553              11.0 2016-09-26 15:08:29+00:00  Web Development  \n",
       "3138              16.0 2015-11-08 20:57:35+00:00  Web Development  \n",
       "3197              20.0 2014-03-04 07:12:21+00:00  Web Development  \n",
       "2681               5.0 2015-06-14 18:18:57+00:00  Web Development  \n",
       "3203              12.5 2016-11-06 19:00:38+00:00  Web Development  "
      ]
     },
     "execution_count": 129,
     "metadata": {},
     "output_type": "execute_result"
    }
   ],
   "source": [
    "#Display 10 Most Popular Python Courses As Per Number of Subscribers\n",
    "most10=python_courses.sort_values(by='num_subscribers',ascending=False).head(10)\n",
    "most10"
   ]
  },
  {
   "cell_type": "code",
   "execution_count": 132,
   "id": "dee8c07c",
   "metadata": {},
   "outputs": [
    {
     "data": {
      "image/png": "[encoded data removed]",
      "text/plain": [
       "<Figure size 432x288 with 1 Axes>"
      ]
     },
     "metadata": {
      "needs_background": "light"
     },
     "output_type": "display_data"
    }
   ],
   "source": [
    "sns.barplot(x='course_title',y='num_subscribers',data=most10)\n",
    "plt.xticks(rotation=90)\n",
    "plt.show()"
   ]
  },
  {
   "cell_type": "code",
   "execution_count": 134,
   "id": "28811354",
   "metadata": {},
   "outputs": [],
   "source": [
    "#In Which Year The Highest Number of Courses Were Posted?\n",
    "data['year']=data['published_timestamp'].dt.year\n",
    "\n",
    "#data.sort_values(by=data['published_timestamp'].dt.year,ascending=False)"
   ]
  },
  {
   "cell_type": "code",
   "execution_count": 136,
   "id": "62b33a95",
   "metadata": {},
   "outputs": [
    {
     "data": {
      "text/plain": [
       "year\n",
       "2011       5\n",
       "2012      45\n",
       "2013     202\n",
       "2014     491\n",
       "2015    1014\n",
       "2016    1206\n",
       "2017     715\n",
       "Name: course_title, dtype: int64"
      ]
     },
     "execution_count": 136,
     "metadata": {},
     "output_type": "execute_result"
    }
   ],
   "source": [
    "data['course_title'].groupby(data['year']).count()\n",
    "#data['year'].value_counts()"
   ]
  },
  {
   "cell_type": "code",
   "execution_count": 139,
   "id": "b40bdd15",
   "metadata": {},
   "outputs": [
    {
     "name": "stderr",
     "output_type": "stream",
     "text": [
      "C:\\ProgramData\\Anaconda3\\lib\\site-packages\\seaborn\\_decorators.py:36: FutureWarning: Pass the following variable as a keyword arg: x. From version 0.12, the only valid positional argument will be `data`, and passing other arguments without an explicit keyword will result in an error or misinterpretation.\n",
      "  warnings.warn(\n"
     ]
    },
    {
     "data": {
      "text/plain": [
       "<AxesSubplot:xlabel='year', ylabel='count'>"
      ]
     },
     "execution_count": 139,
     "metadata": {},
     "output_type": "execute_result"
    },
    {
     "data": {
      "image/png": "[encoded data removed]",
      "text/plain": [
       "<Figure size 432x288 with 1 Axes>"
      ]
     },
     "metadata": {
      "needs_background": "light"
     },
     "output_type": "display_data"
    }
   ],
   "source": [
    "sns.countplot(data['year'])"
   ]
  },
  {
   "cell_type": "code",
   "execution_count": 143,
   "id": "a58772fd",
   "metadata": {},
   "outputs": [
    {
     "data": {
      "text/plain": [
       "year  subject            \n",
       "2011  Web Development          5\n",
       "2012  Web Development         19\n",
       "      Graphic Design          10\n",
       "      Musical Instruments     10\n",
       "      Business Finance         6\n",
       "2013  Business Finance        84\n",
       "      Web Development         56\n",
       "      Musical Instruments     39\n",
       "      Graphic Design          23\n",
       "2014  Business Finance       192\n",
       "      Musical Instruments    120\n",
       "      Web Development        113\n",
       "      Graphic Design          66\n",
       "2015  Business Finance       339\n",
       "      Web Development        336\n",
       "      Musical Instruments    171\n",
       "      Graphic Design         168\n",
       "2016  Web Development        448\n",
       "      Business Finance       349\n",
       "      Musical Instruments    228\n",
       "      Graphic Design         181\n",
       "2017  Business Finance       225\n",
       "      Web Development        223\n",
       "      Graphic Design         155\n",
       "      Musical Instruments    112\n",
       "Name: subject, dtype: int64"
      ]
     },
     "execution_count": 143,
     "metadata": {},
     "output_type": "execute_result"
    }
   ],
   "source": [
    "#Display Category-Wise Count of Posted Subjects [Year Wise]\n",
    "data.groupby('year')['subject'].value_counts()"
   ]
  },
  {
   "cell_type": "code",
   "execution_count": null,
   "id": "b1cdfd69",
   "metadata": {},
   "outputs": [],
   "source": []
  },
  {
   "cell_type": "code",
   "execution_count": null,
   "id": "40ada99e",
   "metadata": {},
   "outputs": [],
   "source": []
  }
 ],
 "metadata": {
  "kernelspec": {
   "display_name": "Python 3 (ipykernel)",
   "language": "python",
   "name": "python3"
  },
  "language_info": {
   "codemirror_mode": {
    "name": "ipython",
    "version": 3
   },
   "file_extension": ".py",
   "mimetype": "text/x-python",
   "name": "python",
   "nbconvert_exporter": "python",
   "pygments_lexer": "ipython3",
   "version": "3.9.7"
  }
 },
 "nbformat": 4,
 "nbformat_minor": 5
}
